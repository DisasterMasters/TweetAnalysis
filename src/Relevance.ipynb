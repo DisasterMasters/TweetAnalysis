{
 "cells": [
  {
   "cell_type": "code",
   "execution_count": 1,
   "metadata": {},
   "outputs": [
    {
     "name": "stdout",
     "output_type": "stream",
     "text": [
      "                        _id                  id  \\\n",
      "0  5c505763d2512c412edea9fe  958545105337704449   \n",
      "1  5c505763d2512c412edea9ff  913729938737549312   \n",
      "2  5c505763d2512c412edeaa00  920915671831142401   \n",
      "\n",
      "                                            original  \\\n",
      "0  {'Tweet': 'When the people of Iran rose up aga...   \n",
      "1  {'Tweet': 'Manchester Cityâs Danilo: âIâ...   \n",
      "2  {'Tweet': 'Michael Jordan scores again, this t...   \n",
      "\n",
      "                               original_file  original_line tags  \\\n",
      "0  LABELED_DATA/Manually_labelled_data_2.csv              2  [0]   \n",
      "1  LABELED_DATA/Manually_labelled_data_2.csv              3  [0]   \n",
      "2  LABELED_DATA/Manually_labelled_data_2.csv              4  [0]   \n",
      "\n",
      "                                                text  \n",
      "0  When the people of Iran rose up against the cr...  \n",
      "1  Manchester Citys Danilo: Im looking forward, I...  \n",
      "2  Michael Jordan scores again, this time with hi...  \n",
      "Setting vairables\n"
     ]
    }
   ],
   "source": [
    "from pymongo import MongoClient\n",
    "from tqdm import tqdm\n",
    "import pandas as pd\n",
    "from pd_doc2vec import doc2vec\n",
    "\n",
    "client = MongoClient()\n",
    "client = MongoClient('da1.eecs.utk.edu', 27017) \n",
    "#Connects to the MongoDB, make sure youre SSH'ed into the docker\n",
    "\n",
    "i =0\n",
    "relevancedata = []\n",
    "\n",
    "for post in client['twitter']['LabeledStatuses_MiscRelevant_C'].find({}):  \n",
    "    #Extracts all the entries with a sentiment field\n",
    "    #Updates each data with the name of the collection it comes from\n",
    "    relevancedata.append(post) \n",
    "\n",
    "df = pd.DataFrame(relevancedata)\n",
    "# pulls data into the Pandas DataFrame\n",
    "\n",
    "\n",
    "print(df.head(3))\n",
    "print(\"Setting vairables\")\n"
   ]
  },
  {
   "cell_type": "code",
   "execution_count": 2,
   "metadata": {},
   "outputs": [
    {
     "name": "stdout",
     "output_type": "stream",
     "text": [
      "['_id' 'id' 'original' 'original_file' 'original_line' 'tags' 'text']\n"
     ]
    }
   ],
   "source": [
    "print(df.columns.values)"
   ]
  },
  {
   "cell_type": "code",
   "execution_count": 3,
   "metadata": {},
   "outputs": [
    {
     "name": "stdout",
     "output_type": "stream",
     "text": [
      "1    6185\n",
      "0    4697\n",
      "Name: tags, dtype: int64\n"
     ]
    }
   ],
   "source": [
    "def remove_list(funnyboi):\n",
    "    return funnyboi[0]\n",
    "\n",
    "df.tags = df.tags.apply(remove_list)\n",
    "\n",
    "print(df.tags.value_counts())\n",
    "\n"
   ]
  },
  {
   "cell_type": "code",
   "execution_count": 4,
   "metadata": {},
   "outputs": [
    {
     "name": "stdout",
     "output_type": "stream",
     "text": [
      "_id              0\n",
      "id               0\n",
      "original         0\n",
      "original_file    0\n",
      "original_line    0\n",
      "tags             0\n",
      "text             0\n",
      "dtype: int64\n"
     ]
    }
   ],
   "source": [
    "print(df.isna().sum())"
   ]
  },
  {
   "cell_type": "code",
   "execution_count": 5,
   "metadata": {},
   "outputs": [],
   "source": [
    "df.text = df.text.astype(str)"
   ]
  },
  {
   "cell_type": "code",
   "execution_count": 6,
   "metadata": {},
   "outputs": [
    {
     "name": "stdout",
     "output_type": "stream",
     "text": [
      "Scoring Model\n",
      "tags\n"
     ]
    },
    {
     "data": {
      "application/vnd.jupyter.widget-view+json": {
       "model_id": "aa8c1f7b9ae24f68a50770772b4a3b4b",
       "version_major": 2,
       "version_minor": 0
      },
      "text/plain": [
       "HBox(children=(IntProgress(value=0, max=545), HTML(value='')))"
      ]
     },
     "metadata": {},
     "output_type": "display_data"
    },
    {
     "name": "stdout",
     "output_type": "stream",
     "text": [
      "\n"
     ]
    },
    {
     "data": {
      "application/vnd.jupyter.widget-view+json": {
       "model_id": "adfa9379139841fab3478eaaf1920d27",
       "version_major": 2,
       "version_minor": 0
      },
      "text/plain": [
       "HBox(children=(IntProgress(value=0, max=545), HTML(value='')))"
      ]
     },
     "metadata": {},
     "output_type": "display_data"
    },
    {
     "name": "stdout",
     "output_type": "stream",
     "text": [
      "\n"
     ]
    },
    {
     "data": {
      "application/vnd.jupyter.widget-view+json": {
       "model_id": "cb42fde5baae483a991434520c429e10",
       "version_major": 2,
       "version_minor": 0
      },
      "text/plain": [
       "HBox(children=(IntProgress(value=0, max=545), HTML(value='')))"
      ]
     },
     "metadata": {},
     "output_type": "display_data"
    },
    {
     "name": "stdout",
     "output_type": "stream",
     "text": [
      "\n"
     ]
    },
    {
     "data": {
      "application/vnd.jupyter.widget-view+json": {
       "model_id": "9b4311cbb5a04c90807f27087b3279a2",
       "version_major": 2,
       "version_minor": 0
      },
      "text/plain": [
       "HBox(children=(IntProgress(value=0, max=545), HTML(value='')))"
      ]
     },
     "metadata": {},
     "output_type": "display_data"
    },
    {
     "name": "stdout",
     "output_type": "stream",
     "text": [
      "\n"
     ]
    },
    {
     "data": {
      "application/vnd.jupyter.widget-view+json": {
       "model_id": "cb34ffc51c0f433a8612246e6dfa60b9",
       "version_major": 2,
       "version_minor": 0
      },
      "text/plain": [
       "HBox(children=(IntProgress(value=0, max=545), HTML(value='')))"
      ]
     },
     "metadata": {},
     "output_type": "display_data"
    },
    {
     "name": "stdout",
     "output_type": "stream",
     "text": [
      "\n"
     ]
    },
    {
     "data": {
      "application/vnd.jupyter.widget-view+json": {
       "model_id": "52e88e795eaf4df497694ca46aefff86",
       "version_major": 2,
       "version_minor": 0
      },
      "text/plain": [
       "HBox(children=(IntProgress(value=0, max=545), HTML(value='')))"
      ]
     },
     "metadata": {},
     "output_type": "display_data"
    },
    {
     "name": "stdout",
     "output_type": "stream",
     "text": [
      "\n"
     ]
    },
    {
     "data": {
      "application/vnd.jupyter.widget-view+json": {
       "model_id": "f222ac56c23c4bf6a0cc72018e91cfbe",
       "version_major": 2,
       "version_minor": 0
      },
      "text/plain": [
       "HBox(children=(IntProgress(value=0, max=545), HTML(value='')))"
      ]
     },
     "metadata": {},
     "output_type": "display_data"
    },
    {
     "name": "stdout",
     "output_type": "stream",
     "text": [
      "\n"
     ]
    },
    {
     "data": {
      "application/vnd.jupyter.widget-view+json": {
       "model_id": "21d5249977e74cee8552cd6b3a83e981",
       "version_major": 2,
       "version_minor": 0
      },
      "text/plain": [
       "HBox(children=(IntProgress(value=0, max=545), HTML(value='')))"
      ]
     },
     "metadata": {},
     "output_type": "display_data"
    },
    {
     "name": "stdout",
     "output_type": "stream",
     "text": [
      "\n"
     ]
    },
    {
     "data": {
      "application/vnd.jupyter.widget-view+json": {
       "model_id": "e4bd47d6e0de49da9a2ef72a5171ee0f",
       "version_major": 2,
       "version_minor": 0
      },
      "text/plain": [
       "HBox(children=(IntProgress(value=0, max=545), HTML(value='')))"
      ]
     },
     "metadata": {},
     "output_type": "display_data"
    },
    {
     "name": "stdout",
     "output_type": "stream",
     "text": [
      "\n"
     ]
    },
    {
     "data": {
      "application/vnd.jupyter.widget-view+json": {
       "model_id": "4ebda63cdd684b69bfa4d9727669af03",
       "version_major": 2,
       "version_minor": 0
      },
      "text/plain": [
       "HBox(children=(IntProgress(value=0, max=545), HTML(value='')))"
      ]
     },
     "metadata": {},
     "output_type": "display_data"
    },
    {
     "name": "stdout",
     "output_type": "stream",
     "text": [
      "\n",
      "Accuracy Score:  0.8155963302752294\n",
      "Label Score:  [0.7821256500253873, 0.839824835369295]\n"
     ]
    },
    {
     "data": {
      "text/plain": [
       "[[0.7821256500253873, 0.839824835369295], 0.8238532110091743]"
      ]
     },
     "execution_count": 6,
     "metadata": {},
     "output_type": "execute_result"
    }
   ],
   "source": [
    "# We pass the class 3 fields:\n",
    "# 1. The DataFrame\n",
    "# 2. The X value, the Text (Pandas Series)\n",
    "# 3. The Y values, the labels that correspond to the text (Pandas Series)\n",
    "#                   It can be a list of the names of the columns or one as a string\n",
    "\n",
    "x = doc2vec(df, \"text\", [\"tags\"])\n",
    "\n",
    "print(\"Scoring Model\")\n",
    "\n",
    "#returns scores of each labels accuracy from the first column passed into \n",
    "# the Y or 3 arguments, in this example it was \"main\"\n",
    "# this uses sklearn.metrics.f1_score, you can pass in \n",
    "x.score(verbose=True)\n"
   ]
  },
  {
   "cell_type": "code",
   "execution_count": 7,
   "metadata": {},
   "outputs": [
    {
     "name": "stdout",
     "output_type": "stream",
     "text": [
      "The history saving thread hit an unexpected error (OperationalError('attempt to write a readonly database',)).History will not be written to the database.\n",
      "            Source   categories                       _id created_at  \\\n",
      "0  Statuses_Irma_C          NaN  5c409973ec4ee50898175e81  12/3/2017   \n",
      "1  Statuses_Irma_A  ['utility']  5c11a746ec4ee522100a5b3b  9/15/2017   \n",
      "2  Statuses_Irma_A      ['gov']  5c0c5cf2ec4ee5221008263d   9/8/2017   \n",
      "\n",
      "   emotion_ml  opinion_ml                                               text  \\\n",
      "0         0.0         1.0  We will add a few more warmer-than-average day...   \n",
      "1         0.0         1.0  I am happy to speak with someone at @dukeenerg...   \n",
      "2         0.0         1.0  Consider it done! Great work! #9PMRoutine http...   \n",
      "\n",
      "   Relevance  1st Code  2nd Code  \n",
      "0        0.0       NaN       NaN  \n",
      "1        1.0       9.0      27.0  \n",
      "2        0.0       NaN       NaN  \n"
     ]
    }
   ],
   "source": [
    "tweets = pd.read_csv(\"tweets.csv\")\n",
    "print(tweets.head(3))"
   ]
  },
  {
   "cell_type": "code",
   "execution_count": 8,
   "metadata": {},
   "outputs": [
    {
     "name": "stdout",
     "output_type": "stream",
     "text": [
      "1.0    377\n",
      "0.0    194\n",
      "Name: Relevance, dtype: int64\n"
     ]
    }
   ],
   "source": [
    "print(tweets.Relevance.value_counts())"
   ]
  },
  {
   "cell_type": "code",
   "execution_count": 9,
   "metadata": {},
   "outputs": [
    {
     "name": "stdout",
     "output_type": "stream",
     "text": [
      "Source           7\n",
      "categories    1197\n",
      "_id              7\n",
      "created_at       1\n",
      "emotion_ml      10\n",
      "opinion_ml      10\n",
      "text            16\n",
      "Relevance     1185\n",
      "1st Code      1701\n",
      "2nd Code      1698\n",
      "dtype: int64\n"
     ]
    }
   ],
   "source": [
    "print(tweets.isna().sum())"
   ]
  },
  {
   "cell_type": "code",
   "execution_count": 10,
   "metadata": {},
   "outputs": [
    {
     "name": "stdout",
     "output_type": "stream",
     "text": [
      "0.0    1379\n",
      "1.0     377\n",
      "Name: Relevance, dtype: int64\n"
     ]
    }
   ],
   "source": [
    "tweets.Relevance.fillna(0, inplace=True)\n",
    "\n",
    "print(tweets.Relevance.value_counts())"
   ]
  },
  {
   "cell_type": "code",
   "execution_count": 11,
   "metadata": {},
   "outputs": [
    {
     "name": "stdout",
     "output_type": "stream",
     "text": [
      "text         16\n",
      "Relevance     0\n",
      "dtype: int64\n"
     ]
    }
   ],
   "source": [
    "tweets  =  tweets[[\"text\", \"Relevance\"]]\n",
    "print(tweets.isna().sum())"
   ]
  },
  {
   "cell_type": "code",
   "execution_count": 12,
   "metadata": {},
   "outputs": [
    {
     "name": "stdout",
     "output_type": "stream",
     "text": [
      "text         0\n",
      "Relevance    0\n",
      "dtype: int64\n"
     ]
    }
   ],
   "source": [
    "tweets = tweets.dropna()\n",
    "print(tweets.isna().sum())"
   ]
  },
  {
   "cell_type": "code",
   "execution_count": 13,
   "metadata": {},
   "outputs": [
    {
     "name": "stdout",
     "output_type": "stream",
     "text": [
      "Scoring Model\n",
      "Relevance\n"
     ]
    },
    {
     "data": {
      "application/vnd.jupyter.widget-view+json": {
       "model_id": "9ef5cfa06ef345dda56773f187f007ea",
       "version_major": 2,
       "version_minor": 0
      },
      "text/plain": [
       "HBox(children=(IntProgress(value=0, max=87), HTML(value='')))"
      ]
     },
     "metadata": {},
     "output_type": "display_data"
    },
    {
     "name": "stdout",
     "output_type": "stream",
     "text": [
      "\n"
     ]
    },
    {
     "data": {
      "application/vnd.jupyter.widget-view+json": {
       "model_id": "49f13ce5e02d452eae35ceb85b3a0e28",
       "version_major": 2,
       "version_minor": 0
      },
      "text/plain": [
       "HBox(children=(IntProgress(value=0, max=87), HTML(value='')))"
      ]
     },
     "metadata": {},
     "output_type": "display_data"
    },
    {
     "name": "stdout",
     "output_type": "stream",
     "text": [
      "\n"
     ]
    },
    {
     "data": {
      "application/vnd.jupyter.widget-view+json": {
       "model_id": "e9b202f9440f4c689a5da80ec3d32424",
       "version_major": 2,
       "version_minor": 0
      },
      "text/plain": [
       "HBox(children=(IntProgress(value=0, max=87), HTML(value='')))"
      ]
     },
     "metadata": {},
     "output_type": "display_data"
    },
    {
     "name": "stdout",
     "output_type": "stream",
     "text": [
      "\n"
     ]
    },
    {
     "data": {
      "application/vnd.jupyter.widget-view+json": {
       "model_id": "d6203027fd4c4cad8debced335e94752",
       "version_major": 2,
       "version_minor": 0
      },
      "text/plain": [
       "HBox(children=(IntProgress(value=0, max=87), HTML(value='')))"
      ]
     },
     "metadata": {},
     "output_type": "display_data"
    },
    {
     "name": "stdout",
     "output_type": "stream",
     "text": [
      "\n"
     ]
    },
    {
     "data": {
      "application/vnd.jupyter.widget-view+json": {
       "model_id": "a30fc4eac0c74033b46801950d4d4802",
       "version_major": 2,
       "version_minor": 0
      },
      "text/plain": [
       "HBox(children=(IntProgress(value=0, max=87), HTML(value='')))"
      ]
     },
     "metadata": {},
     "output_type": "display_data"
    },
    {
     "name": "stdout",
     "output_type": "stream",
     "text": [
      "\n"
     ]
    },
    {
     "data": {
      "application/vnd.jupyter.widget-view+json": {
       "model_id": "811ec4d261b643bc9d42ac731495c5d5",
       "version_major": 2,
       "version_minor": 0
      },
      "text/plain": [
       "HBox(children=(IntProgress(value=0, max=87), HTML(value='')))"
      ]
     },
     "metadata": {},
     "output_type": "display_data"
    },
    {
     "name": "stdout",
     "output_type": "stream",
     "text": [
      "\n"
     ]
    },
    {
     "data": {
      "application/vnd.jupyter.widget-view+json": {
       "model_id": "26c3abce177c4ca098d7b0c94ee76571",
       "version_major": 2,
       "version_minor": 0
      },
      "text/plain": [
       "HBox(children=(IntProgress(value=0, max=87), HTML(value='')))"
      ]
     },
     "metadata": {},
     "output_type": "display_data"
    },
    {
     "name": "stdout",
     "output_type": "stream",
     "text": [
      "\n"
     ]
    },
    {
     "data": {
      "application/vnd.jupyter.widget-view+json": {
       "model_id": "c3cbcf4de31949d1ae2cfb326385f0c9",
       "version_major": 2,
       "version_minor": 0
      },
      "text/plain": [
       "HBox(children=(IntProgress(value=0, max=87), HTML(value='')))"
      ]
     },
     "metadata": {},
     "output_type": "display_data"
    },
    {
     "name": "stdout",
     "output_type": "stream",
     "text": [
      "\n"
     ]
    },
    {
     "data": {
      "application/vnd.jupyter.widget-view+json": {
       "model_id": "168cda77d3014e7eac3f8611fc9b3399",
       "version_major": 2,
       "version_minor": 0
      },
      "text/plain": [
       "HBox(children=(IntProgress(value=0, max=87), HTML(value='')))"
      ]
     },
     "metadata": {},
     "output_type": "display_data"
    },
    {
     "name": "stdout",
     "output_type": "stream",
     "text": [
      "\n"
     ]
    },
    {
     "data": {
      "application/vnd.jupyter.widget-view+json": {
       "model_id": "cf2dd503dc9f41f299fcdfd44ee04c80",
       "version_major": 2,
       "version_minor": 0
      },
      "text/plain": [
       "HBox(children=(IntProgress(value=0, max=87), HTML(value='')))"
      ]
     },
     "metadata": {},
     "output_type": "display_data"
    },
    {
     "name": "stdout",
     "output_type": "stream",
     "text": [
      "\n",
      "Accuracy Score:  0.8080459770114944\n",
      "Label Score:  [0.8549189518036255, 0.6963007904601084]\n"
     ]
    },
    {
     "data": {
      "text/plain": [
       "[[0.8549189518036255, 0.6963007904601084], 0.8850574712643678]"
      ]
     },
     "execution_count": 13,
     "metadata": {},
     "output_type": "execute_result"
    }
   ],
   "source": [
    "# We pass the class 3 fields:\n",
    "# 1. The DataFrame\n",
    "# 2. The X value, the Text (Pandas Series)\n",
    "# 3. The Y values, the labels that correspond to the text (Pandas Series)\n",
    "#                   It can be a list of the names of the columns or one as a string\n",
    "\n",
    "x = doc2vec(tweets, \"text\", [\"Relevance\"])\n",
    "\n",
    "print(\"Scoring Model\")\n",
    "\n",
    "#returns scores of each labels accuracy from the first column passed into \n",
    "# the Y or 3 arguments, in this example it was \"main\"\n",
    "# this uses sklearn.metrics.f1_score, you can pass in \n",
    "x.score(verbose=True)\n"
   ]
  },
  {
   "cell_type": "code",
   "execution_count": 14,
   "metadata": {},
   "outputs": [
    {
     "name": "stdout",
     "output_type": "stream",
     "text": [
      "['Relevance' 'tags' 'text']\n"
     ]
    }
   ],
   "source": [
    "frames = []\n",
    "df  =  df[[\"text\", \"tags\"]]\n",
    "\n",
    "frames.append(df)\n",
    "frames.append(tweets)\n",
    "result = pd.concat(frames)\n",
    "print(result.columns.values)"
   ]
  },
  {
   "cell_type": "code",
   "execution_count": 15,
   "metadata": {},
   "outputs": [
    {
     "name": "stdout",
     "output_type": "stream",
     "text": [
      "['text' 'tags']\n"
     ]
    }
   ],
   "source": [
    "result['tags'].fillna(result['Relevance'], inplace=True)\n",
    "result  =  result[[\"text\", \"tags\"]]\n",
    "print(result.columns.values)"
   ]
  },
  {
   "cell_type": "code",
   "execution_count": 16,
   "metadata": {},
   "outputs": [
    {
     "name": "stdout",
     "output_type": "stream",
     "text": [
      "text    0\n",
      "tags    0\n",
      "dtype: int64\n"
     ]
    }
   ],
   "source": [
    "print(result.isna().sum())"
   ]
  },
  {
   "cell_type": "code",
   "execution_count": 17,
   "metadata": {},
   "outputs": [
    {
     "name": "stdout",
     "output_type": "stream",
     "text": [
      "1.0    6562\n",
      "0.0    6060\n",
      "Name: tags, dtype: int64\n"
     ]
    }
   ],
   "source": [
    "print(result.tags.value_counts())"
   ]
  },
  {
   "cell_type": "code",
   "execution_count": 18,
   "metadata": {},
   "outputs": [
    {
     "name": "stdout",
     "output_type": "stream",
     "text": [
      "text    0\n",
      "tags    0\n",
      "dtype: int64\n"
     ]
    }
   ],
   "source": [
    "result['tags'].fillna(0.0, inplace=True)\n",
    "print(result.isna().sum())"
   ]
  },
  {
   "cell_type": "code",
   "execution_count": 19,
   "metadata": {
    "scrolled": true
   },
   "outputs": [
    {
     "name": "stdout",
     "output_type": "stream",
     "text": [
      "Scoring Model\n",
      "tags\n"
     ]
    },
    {
     "data": {
      "application/vnd.jupyter.widget-view+json": {
       "model_id": "8c5fbb7304e545f4bcd38627983c2843",
       "version_major": 2,
       "version_minor": 0
      },
      "text/plain": [
       "HBox(children=(IntProgress(value=0, max=632), HTML(value='')))"
      ]
     },
     "metadata": {},
     "output_type": "display_data"
    },
    {
     "name": "stdout",
     "output_type": "stream",
     "text": [
      "\n"
     ]
    },
    {
     "data": {
      "application/vnd.jupyter.widget-view+json": {
       "model_id": "8ffcda415fa64b8e9abe25f71384145c",
       "version_major": 2,
       "version_minor": 0
      },
      "text/plain": [
       "HBox(children=(IntProgress(value=0, max=632), HTML(value='')))"
      ]
     },
     "metadata": {},
     "output_type": "display_data"
    },
    {
     "name": "stdout",
     "output_type": "stream",
     "text": [
      "\n"
     ]
    },
    {
     "data": {
      "application/vnd.jupyter.widget-view+json": {
       "model_id": "738ba8a435724a2aac5d20dbf2489f46",
       "version_major": 2,
       "version_minor": 0
      },
      "text/plain": [
       "HBox(children=(IntProgress(value=0, max=632), HTML(value='')))"
      ]
     },
     "metadata": {},
     "output_type": "display_data"
    },
    {
     "name": "stdout",
     "output_type": "stream",
     "text": [
      "\n"
     ]
    },
    {
     "data": {
      "application/vnd.jupyter.widget-view+json": {
       "model_id": "916ad75b03b748b7a5c01112affe2f6b",
       "version_major": 2,
       "version_minor": 0
      },
      "text/plain": [
       "HBox(children=(IntProgress(value=0, max=632), HTML(value='')))"
      ]
     },
     "metadata": {},
     "output_type": "display_data"
    },
    {
     "name": "stdout",
     "output_type": "stream",
     "text": [
      "\n"
     ]
    },
    {
     "data": {
      "application/vnd.jupyter.widget-view+json": {
       "model_id": "e34fa264d42c435491b864bcd973d055",
       "version_major": 2,
       "version_minor": 0
      },
      "text/plain": [
       "HBox(children=(IntProgress(value=0, max=632), HTML(value='')))"
      ]
     },
     "metadata": {},
     "output_type": "display_data"
    },
    {
     "name": "stdout",
     "output_type": "stream",
     "text": [
      "\n"
     ]
    },
    {
     "data": {
      "application/vnd.jupyter.widget-view+json": {
       "model_id": "d3c1d1363ea24a0f88c91fc7b6fbfa7f",
       "version_major": 2,
       "version_minor": 0
      },
      "text/plain": [
       "HBox(children=(IntProgress(value=0, max=632), HTML(value='')))"
      ]
     },
     "metadata": {},
     "output_type": "display_data"
    },
    {
     "name": "stdout",
     "output_type": "stream",
     "text": [
      "\n"
     ]
    },
    {
     "data": {
      "application/vnd.jupyter.widget-view+json": {
       "model_id": "d3d16a6a6ba54c1a940081e871151abc",
       "version_major": 2,
       "version_minor": 0
      },
      "text/plain": [
       "HBox(children=(IntProgress(value=0, max=632), HTML(value='')))"
      ]
     },
     "metadata": {},
     "output_type": "display_data"
    },
    {
     "name": "stdout",
     "output_type": "stream",
     "text": [
      "\n"
     ]
    },
    {
     "data": {
      "application/vnd.jupyter.widget-view+json": {
       "model_id": "2aac7acfa9b548bf991580990929d4c1",
       "version_major": 2,
       "version_minor": 0
      },
      "text/plain": [
       "HBox(children=(IntProgress(value=0, max=632), HTML(value='')))"
      ]
     },
     "metadata": {},
     "output_type": "display_data"
    },
    {
     "name": "stdout",
     "output_type": "stream",
     "text": [
      "\n"
     ]
    },
    {
     "data": {
      "application/vnd.jupyter.widget-view+json": {
       "model_id": "e6d0ae18dfef42dcaf38312c921f49d8",
       "version_major": 2,
       "version_minor": 0
      },
      "text/plain": [
       "HBox(children=(IntProgress(value=0, max=632), HTML(value='')))"
      ]
     },
     "metadata": {},
     "output_type": "display_data"
    },
    {
     "name": "stdout",
     "output_type": "stream",
     "text": [
      "\n"
     ]
    },
    {
     "data": {
      "application/vnd.jupyter.widget-view+json": {
       "model_id": "1462d156937f40f5ad5a4f638ac330da",
       "version_major": 2,
       "version_minor": 0
      },
      "text/plain": [
       "HBox(children=(IntProgress(value=0, max=632), HTML(value='')))"
      ]
     },
     "metadata": {},
     "output_type": "display_data"
    },
    {
     "name": "stdout",
     "output_type": "stream",
     "text": [
      "\n",
      "Accuracy Score:  0.8096518987341772\n",
      "Label Score:  [0.802380360695814, 0.8154323398775469]\n"
     ]
    },
    {
     "data": {
      "text/plain": [
       "[[0.802380360695814, 0.8154323398775469], 0.7768987341772152]"
      ]
     },
     "execution_count": 19,
     "metadata": {},
     "output_type": "execute_result"
    }
   ],
   "source": [
    "# We pass the class 3 fields:\n",
    "# 1. The DataFrame\n",
    "# 2. The X value, the Text (Pandas Series)\n",
    "# 3. The Y values, the labels that correspond to the text (Pandas Series)\n",
    "#                   It can be a list of the names of the columns or one as a string\n",
    "\n",
    "x = doc2vec(result, \"text\", [\"tags\"])\n",
    "\n",
    "print(\"Scoring Model\")\n",
    "\n",
    "#returns scores of each labels accuracy from the first column passed into \n",
    "# the Y or 3 arguments, in this example it was \"main\"\n",
    "# this uses sklearn.metrics.f1_score, you can pass in \n",
    "x.score(verbose=True)\n"
   ]
  },
  {
   "cell_type": "code",
   "execution_count": null,
   "metadata": {},
   "outputs": [],
   "source": []
  },
  {
   "cell_type": "code",
   "execution_count": null,
   "metadata": {},
   "outputs": [],
   "source": []
  },
  {
   "cell_type": "code",
   "execution_count": null,
   "metadata": {},
   "outputs": [],
   "source": []
  },
  {
   "cell_type": "code",
   "execution_count": null,
   "metadata": {},
   "outputs": [],
   "source": []
  },
  {
   "cell_type": "code",
   "execution_count": null,
   "metadata": {},
   "outputs": [],
   "source": []
  }
 ],
 "metadata": {
  "kernelspec": {
   "display_name": "Python 3",
   "language": "python",
   "name": "python3"
  },
  "language_info": {
   "codemirror_mode": {
    "name": "ipython",
    "version": 3
   },
   "file_extension": ".py",
   "mimetype": "text/x-python",
   "name": "python",
   "nbconvert_exporter": "python",
   "pygments_lexer": "ipython3",
   "version": "3.5.2"
  }
 },
 "nbformat": 4,
 "nbformat_minor": 2
}
