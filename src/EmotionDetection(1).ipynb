{
 "cells": [
  {
   "cell_type": "code",
   "execution_count": 126,
   "metadata": {
    "scrolled": false
   },
   "outputs": [
    {
     "name": "stdout",
     "output_type": "stream",
     "text": [
      "      ID       Date                                              Tweet  \\\n",
      "0   3020 2017-09-10  @wsvn right below is the parking lot, across f...   \n",
      "1  67518 2017-09-10     @WPTV #HurricanIrma pic.twitter.com/cpStsW3MXx   \n",
      "2  20428 2017-09-10  . @DukeEnergy says 447 people without power in...   \n",
      "3  39812 2017-09-13  So if your regular pickup is on a Tuesday, do ...   \n",
      "4  60263 2017-09-09  4 more shelters opened in Sarasota Co. bringin...   \n",
      "\n",
      "  Opinion  Emotion Emotion class Sentiment Sarcasm  \n",
      "0     NaN      NaN           NaN       NaN     NaN  \n",
      "1     NaN      NaN           NaN       NaN     NaN  \n",
      "2     NaN      NaN           NaN       NaN     NaN  \n",
      "3     NaN      NaN           NaN       NaN     NaN  \n",
      "4     NaN      NaN           NaN       NaN     NaN  \n"
     ]
    }
   ],
   "source": [
    "#read in emotion file\n",
    "import pandas as pd\n",
    "from pd_doc2vec import doc2vec\n",
    "df1 = pd.read_excel(\"emotions.xlsx\")\n",
    "print(df1.head())"
   ]
  },
  {
   "cell_type": "code",
   "execution_count": 127,
   "metadata": {
    "scrolled": false
   },
   "outputs": [
    {
     "name": "stdout",
     "output_type": "stream",
     "text": [
      "      ID       Date                                              Tweet  \\\n",
      "0   3020 2017-09-10  @wsvn right below is the parking lot, across f...   \n",
      "1  67518 2017-09-10     @WPTV #HurricanIrma pic.twitter.com/cpStsW3MXx   \n",
      "2  20428 2017-09-10  . @DukeEnergy says 447 people without power in...   \n",
      "3  39812 2017-09-13  So if your regular pickup is on a Tuesday, do ...   \n",
      "4  60263 2017-09-09  4 more shelters opened in Sarasota Co. bringin...   \n",
      "\n",
      "  Opinion  Emotion Emotion class Sentiment Sarcasm  \n",
      "0     NaN      0.0           NaN       NaN     NaN  \n",
      "1     NaN      0.0           NaN       NaN     NaN  \n",
      "2     NaN      0.0           NaN       NaN     NaN  \n",
      "3     NaN      0.0           NaN       NaN     NaN  \n",
      "4     NaN      0.0           NaN       NaN     NaN  \n"
     ]
    }
   ],
   "source": [
    "#prep emotion column for analysis\n",
    "df1[\"Emotion\"].fillna(0,inplace=True)\n",
    "print(df1.head())"
   ]
  },
  {
   "cell_type": "code",
   "execution_count": 128,
   "metadata": {},
   "outputs": [
    {
     "name": "stdout",
     "output_type": "stream",
     "text": [
      "      ID       Date                                              Tweet  \\\n",
      "0   3020 2017-09-10  @wsvn right below is the parking lot, across f...   \n",
      "1  67518 2017-09-10     @WPTV #HurricanIrma pic.twitter.com/cpStsW3MXx   \n",
      "2  20428 2017-09-10  . @DukeEnergy says 447 people without power in...   \n",
      "3  39812 2017-09-13  So if your regular pickup is on a Tuesday, do ...   \n",
      "4  60263 2017-09-09  4 more shelters opened in Sarasota Co. bringin...   \n",
      "\n",
      "  Opinion Emotion Emotion class Sentiment Sarcasm  \n",
      "0     NaN   False           NaN       NaN     NaN  \n",
      "1     NaN   False           NaN       NaN     NaN  \n",
      "2     NaN   False           NaN       NaN     NaN  \n",
      "3     NaN   False           NaN       NaN     NaN  \n",
      "4     NaN   False           NaN       NaN     NaN  \n"
     ]
    }
   ],
   "source": [
    "df1[\"Emotion\"] = df1[\"Emotion\"].map({1:\"True\", 0:\"False\"})\n",
    "print(df1.head())"
   ]
  },
  {
   "cell_type": "code",
   "execution_count": 129,
   "metadata": {},
   "outputs": [
    {
     "name": "stderr",
     "output_type": "stream",
     "text": [
      "/usr/local/lib/python3.5/dist-packages/gensim/matutils.py:737: FutureWarning: Conversion of the second argument of issubdtype from `int` to `np.signedinteger` is deprecated. In future, it will be treated as `np.int64 == np.dtype(int).type`.\n",
      "  if np.issubdtype(vec.dtype, np.int):\n",
      "/home/nwest13/Curent/Syd/pd_doc2vec.py:106: SettingWithCopyWarning: \n",
      "A value is trying to be set on a copy of a slice from a DataFrame.\n",
      "Try using .loc[row_indexer,col_indexer] = value instead\n",
      "\n",
      "See the caveats in the documentation: http://pandas.pydata.org/pandas-docs/stable/indexing.html#indexing-view-versus-copy\n",
      "  test['results'] = self.predict(test[X])\n"
     ]
    },
    {
     "name": "stdout",
     "output_type": "stream",
     "text": [
      "Accuracy Score:  0.9059999999999999\n",
      "Label Score:  [0.9380062432397696, 0.7868461758547964]\n",
      "[[0.9380062432397696, 0.7868461758547964], 0.96]\n"
     ]
    }
   ],
   "source": [
    "#trying out Manny's doc2vec class for emotion detection, 10 times\n",
    "x = doc2vec(df1, \"Tweet\",[\"Emotion\"], build=True)\n",
    "print(x.score())"
   ]
  },
  {
   "cell_type": "code",
   "execution_count": 130,
   "metadata": {},
   "outputs": [
    {
     "name": "stdout",
     "output_type": "stream",
     "text": [
      "        ID       Date                                              Tweet  \\\n",
      "9    34735 2017-09-07  . @CBS12 , @WPTV , @wpbf , @pbpost , @SunSenti...   \n",
      "10   41367 2017-09-10                    Damn I hope those babies are ok   \n",
      "13    3068 2017-09-09        We dodged the worst, Again. We are so Lucky   \n",
      "14   15541 2017-09-06  Thank you !!!! Please remember to cover Martin...   \n",
      "15   30311 2017-09-11  @WPLGLocal10 @SunSentinel how do Floridians re...   \n",
      "20   40989 2017-09-20                                       We r safe!!!   \n",
      "23   39379 2017-09-09  @wsvn crazy sparks in North Miami Beach pic.tw...   \n",
      "28    9012 2017-09-10  These are someone's pets. How could they just ...   \n",
      "30    3339 2017-09-11  . @wsvn @7NewsTIF Abandoning an endangered orc...   \n",
      "31    9674 2017-09-11  Trees down in Wesley chapel! @WFLA @BN9 @WFLAL...   \n",
      "39    4154 2017-09-06  We live sea level.. there's no good drain syst...   \n",
      "40   53743 2017-09-10  The news can post this without following up if...   \n",
      "41   66876 2017-09-06  The airlines shouldn't be allowed to gouge pri...   \n",
      "42   41692 2017-09-11      COME GET THIS FUCKING TREE OFF THE POWER LINE   \n",
      "52   45974 2017-09-11  Their poor little sad faces. I hope they made ...   \n",
      "56   60677 2017-09-11   OMG! Did you see all those white people looting?   \n",
      "60   37525 2017-09-10  keep popping in to watch your live-feed. Doing...   \n",
      "65   38902 2017-09-12                                      Be safe Jane.   \n",
      "66   55475 2017-09-15  Thx 4 correction! @OfficialFPL Day 6, 100?�+, ...   \n",
      "67   34418 2017-09-12  @FOX13News No power, downed wire. Why isn't FP...   \n",
      "72   16066 2017-09-08  I've been glued to @WPLGLocal10 and I live in ...   \n",
      "77   39279 2017-09-11  Great WHERE THE FUCK ARE THEY? 1 day later and...   \n",
      "79    9227 2017-09-12  Man what Fpl doing people don't have power in ...   \n",
      "88    9226 2017-09-12  Man what Fpl doing people don't have power in ...   \n",
      "98   56708 2017-09-09                                 Stay safe everyone   \n",
      "100  41125 2017-09-28  Stay brave everyone. Friday is almost here. #p...   \n",
      "101  10142 2017-09-09  @WPLGLocal10 why are you giving airtime to fol...   \n",
      "106  49723 2017-09-01  Houston Strong due to help from all across Ame...   \n",
      "107  30793 2017-09-08                       Glad you got out. Stay safe!   \n",
      "108   2349 2017-09-10  Thinking of u all and my prayers are with u ke...   \n",
      "..     ...        ...                                                ...   \n",
      "925  51100 2017-09-08  @mysuncoast ur sign lang interpreter @press co...   \n",
      "928  26383 2017-09-18  It's a brand new week Cheers to getting back t...   \n",
      "935   4999 2017-09-09  Same thing to us in the past...they fail to de...   \n",
      "936  54781 2017-09-09  @wptv @comcast has shut you off and Irma isn�?...   \n",
      "938  58531 2017-09-08  @wsvn @FLGovScott open up all the lanes like t...   \n",
      "939   2967 2017-09-10  your governor won't allow the state of Florida...   \n",
      "942  50005 2017-09-08  This is heartbreaking. Our pets are our family...   \n",
      "945  24442 2017-09-09  I'm concerned for family in Plant City. Are th...   \n",
      "946  15605 2017-09-09  Thank you - hope you're finding us helpful as ...   \n",
      "950  38647 2017-09-10  Never underestimate Mother Nature. Global Warm...   \n",
      "951  20645 2017-09-05  They're too busy driving around the entire sta...   \n",
      "953  15902 2017-09-04  @WPLGLocal10 you people should really be asham...   \n",
      "954  23561 2017-09-10  @wsvn for the love of God, PLEASE seek some sh...   \n",
      "956  53567 2017-09-10          It's like rivers running through canyons!   \n",
      "960  23815 2017-09-05  you need to make the call. My children will NO...   \n",
      "963  35937 2017-09-10  @DaveGrutman Komodo is under water I'm so sad ...   \n",
      "964  18204 2017-09-11  Thank You @FOX13News @PaulFox13 @CharleyBelche...   \n",
      "965  49848 2017-09-14  So sad to see responders put in that position....   \n",
      "967   7416 2017-09-10  Theft is a crime sure. But nobody got hurt and...   \n",
      "970  45562 2017-09-09  I think WPB in good shape. Got a real good fee...   \n",
      "971  31033 2017-09-10  Holy geeze! Stay away from that window Bill an...   \n",
      "973  19440 2017-09-10  @WPLGLocal10 Big thanks for your coverage on #...   \n",
      "974  63677 2017-09-13  Much-needed fuel headed to Florida ports after...   \n",
      "976  49505 2017-09-08  It's a bunch of bologna about those airline fa...   \n",
      "980  37206 2017-09-05  Water came and water went at Walmart on Belved...   \n",
      "981  27448 2017-09-13  I agree . FPL must tell us why they didn't hel...   \n",
      "982  42963 2017-09-13  Most disappointed in the way the news stations...   \n",
      "983   4718 2017-09-11  Fueling up after the storm is still a big prob...   \n",
      "984  57798 2017-09-10             And, of course they are looting thugs.   \n",
      "985   8563 2017-09-10  God bless you and thank you for everything you...   \n",
      "\n",
      "    Opinion Emotion Emotion class Sentiment Sarcasm  \n",
      "9         1    True             T        Ps     NaN  \n",
      "10      NaN    True             W        Ng     NaN  \n",
      "13        1    True             S        Ps       1  \n",
      "14      NaN    True             T        Ps     NaN  \n",
      "15        1    True           W/A        Ng     NaN  \n",
      "20      NaN    True             H        Ps     NaN  \n",
      "23        1    True            AS        Nt     NaN  \n",
      "28        1    True          SP/A        Ng     NaN  \n",
      "30        1    True             A        Ng     NaN  \n",
      "31      NaN    True             W        Ng     NaN  \n",
      "39        1    True             W        Ng     NaN  \n",
      "40        1    True             W        Ng     NaN  \n",
      "41        1    True           D/A        Ng     NaN  \n",
      "42      NaN    True             A        Ng     NaN  \n",
      "52        1    True          SP/W        Ng     NaN  \n",
      "56      NaN    True             A        Ng       1  \n",
      "60        1    True             T        Ps     NaN  \n",
      "65      NaN    True            HP        Ps     NaN  \n",
      "66      NaN    True           A/D       Ng      NaN  \n",
      "67      NaN    True           A/D       Ng      NaN  \n",
      "72      NaN    True          T/HP        Ps     NaN  \n",
      "77      NaN    True             A        Ng       1  \n",
      "79        1    True             A        Ng     NaN  \n",
      "88        1    True             A        Ng     NaN  \n",
      "98      NaN    True            HP        Ps     NaN  \n",
      "100     NaN    True            HP        Ps     NaN  \n",
      "101       1    True             D        Ng     NaN  \n",
      "106      \\n    True             T        Ps     NaN  \n",
      "107     NaN    True             H        Ps     NaN  \n",
      "108     NaN    True            HP        Ps     NaN  \n",
      "..      ...     ...           ...       ...     ...  \n",
      "925       1    True             A        Ng     NaN  \n",
      "928     NaN    True             H        Ps     NaN  \n",
      "935     NaN    True            SP        Ng     NaN  \n",
      "936     NaN    True             A        Ng     NaN  \n",
      "938       1    True             A        Ng     NaN  \n",
      "939       1    True             A        Ng     NaN  \n",
      "942       1    True           S/A        Ng     NaN  \n",
      "945     NaN    True             W        Ng     NaN  \n",
      "946     NaN    True            HP        Ps     NaN  \n",
      "950       1    True             W        Ng     NaN  \n",
      "951       1    True             A        Ng     NaN  \n",
      "953       1    True             A        Ng     NaN  \n",
      "954       1    True             W        Ng     NaN  \n",
      "956       1    True            AS        Ng          \n",
      "960       1    True             A        Ng     NaN  \n",
      "963     NaN    True             S        Ng     NaN  \n",
      "964     NaN    True             T        Ps     NaN  \n",
      "965     NaN    True             S        Ng     NaN  \n",
      "967       1    True           D/A        Ng     NaN  \n",
      "970       1    True            HP        Ps     NaN  \n",
      "971     NaN    True             W        Ng     NaN  \n",
      "973     NaN    True             T        Ps     NaN  \n",
      "974     NaN    True             H        Ps     NaN  \n",
      "976       1    True             A        Ng     NaN  \n",
      "980     NaN    True            AS        Ng     NaN  \n",
      "981     NaN    True             D        Ng     NaN  \n",
      "982       1    True             D        Ng     NaN  \n",
      "983       1    True             W       Ng      NaN  \n",
      "984       1    True             D        Ng       1  \n",
      "985     NaN    True             T        Ps     NaN  \n",
      "\n",
      "[275 rows x 8 columns]\n"
     ]
    }
   ],
   "source": [
    "#dataframe of Emotion ==1 subset\n",
    "df2 = df1.loc[df1[\"Emotion\"] == 'True']\n",
    "print(df2)"
   ]
  },
  {
   "cell_type": "code",
   "execution_count": 131,
   "metadata": {
    "scrolled": true
   },
   "outputs": [
    {
     "name": "stderr",
     "output_type": "stream",
     "text": [
      "/usr/local/lib/python3.5/dist-packages/gensim/matutils.py:737: FutureWarning: Conversion of the second argument of issubdtype from `int` to `np.signedinteger` is deprecated. In future, it will be treated as `np.int64 == np.dtype(int).type`.\n",
      "  if np.issubdtype(vec.dtype, np.int):\n",
      "/home/nwest13/Curent/Syd/pd_doc2vec.py:106: SettingWithCopyWarning: \n",
      "A value is trying to be set on a copy of a slice from a DataFrame.\n",
      "Try using .loc[row_indexer,col_indexer] = value instead\n",
      "\n",
      "See the caveats in the documentation: http://pandas.pydata.org/pandas-docs/stable/indexing.html#indexing-view-versus-copy\n",
      "  test['results'] = self.predict(test[X])\n"
     ]
    },
    {
     "name": "stdout",
     "output_type": "stream",
     "text": [
      "Accuracy Score:  0.8780000000000001\n",
      "Label Score:  [0.9178269246704682, 0.7431243394286874]\n",
      "[[0.9178269246704682, 0.7431243394286874], 0.94]\n"
     ]
    }
   ],
   "source": [
    "#Predict Sentiment in hand labeled with emotion\n",
    "x2 = doc2vec(df2, \"Tweet\",[\"Sentiment\"], build=True)\n",
    "print(x.score())"
   ]
  },
  {
   "cell_type": "code",
   "execution_count": 132,
   "metadata": {},
   "outputs": [],
   "source": [
    "emotion_model = x.model\n",
    "sentiment_model = x2.model\n"
   ]
  },
  {
   "cell_type": "code",
   "execution_count": 133,
   "metadata": {},
   "outputs": [
    {
     "name": "stdout",
     "output_type": "stream",
     "text": [
      "Connected to Database\n"
     ]
    }
   ],
   "source": [
    "#use this later to scrape all corpora into a df\n",
    "#connect to mongo db\n",
    "from pymongo import MongoClient\n",
    "from pd_doc2vec import doc2vec\n",
    "import pandas as pd\n",
    "\n",
    "\n",
    "client = MongoClient('da1.eecs.utk.edu',27017)\n",
    "print(\"Connected to Database\")"
   ]
  },
  {
   "cell_type": "code",
   "execution_count": 134,
   "metadata": {},
   "outputs": [
    {
     "name": "stdout",
     "output_type": "stream",
     "text": [
      "                        _id  \\\n",
      "0  5c11a746ec4ee522100a5b3b   \n",
      "1  5c598ccbec4ee5929fd33dd2   \n",
      "2  5c1250d9ec4ee522100a9d96   \n",
      "3  5c409936ec4ee5089814c662   \n",
      "4  5c409994ec4ee5089818ae93   \n",
      "\n",
      "                                                text  Emotion? Which emotion?  \n",
      "0  I am happy to speak with someone at @dukeenerg...       1.0              D  \n",
      "1  @kylegravlin @WESH How can I watch it when the...       NaN            NaN  \n",
      "2  Hey @DukeEnergy it's 239 can't even get on yr ...       1.0              A  \n",
      "3  @alabamapower @LOCAL15NEWS @FOX10News @UnitedW...       1.0              A  \n",
      "4  if FPL actually did what u promised after wilm...       1.0              A  \n"
     ]
    }
   ],
   "source": [
    "df3 = pd.read_excel(\"emotion_test.xlsx\")\n",
    "print(df3.head())"
   ]
  },
  {
   "cell_type": "code",
   "execution_count": 135,
   "metadata": {
    "scrolled": true
   },
   "outputs": [
    {
     "name": "stdout",
     "output_type": "stream",
     "text": [
      "                        _id  \\\n",
      "0  5c11a746ec4ee522100a5b3b   \n",
      "1  5c598ccbec4ee5929fd33dd2   \n",
      "2  5c1250d9ec4ee522100a9d96   \n",
      "3  5c409936ec4ee5089814c662   \n",
      "4  5c409994ec4ee5089818ae93   \n",
      "\n",
      "                                                text  Emotion? Which emotion?  \n",
      "0  I am happy to speak with someone at @dukeenerg...       1.0              D  \n",
      "1  @kylegravlin @WESH How can I watch it when the...       0.0            NaN  \n",
      "2  Hey @DukeEnergy it's 239 can't even get on yr ...       1.0              A  \n",
      "3  @alabamapower @LOCAL15NEWS @FOX10News @UnitedW...       1.0              A  \n",
      "4  if FPL actually did what u promised after wilm...       1.0              A  \n"
     ]
    }
   ],
   "source": [
    "df3[\"Emotion?\"].fillna(0,inplace=True)\n",
    "print(df3.head())"
   ]
  },
  {
   "cell_type": "code",
   "execution_count": 136,
   "metadata": {},
   "outputs": [
    {
     "name": "stdout",
     "output_type": "stream",
     "text": [
      "                        _id  \\\n",
      "0  5c11a746ec4ee522100a5b3b   \n",
      "1  5c598ccbec4ee5929fd33dd2   \n",
      "2  5c1250d9ec4ee522100a9d96   \n",
      "3  5c409936ec4ee5089814c662   \n",
      "4  5c409994ec4ee5089818ae93   \n",
      "\n",
      "                                                text Emotion? Which emotion?  \n",
      "0  I am happy to speak with someone at @dukeenerg...     True              D  \n",
      "1  @kylegravlin @WESH How can I watch it when the...    False            NaN  \n",
      "2  Hey @DukeEnergy it's 239 can't even get on yr ...     True              A  \n",
      "3  @alabamapower @LOCAL15NEWS @FOX10News @UnitedW...     True              A  \n",
      "4  if FPL actually did what u promised after wilm...     True              A  \n"
     ]
    }
   ],
   "source": [
    "df3[\"Emotion?\"] = df3[\"Emotion?\"].map({1:\"True\", 0:\"False\"})\n",
    "print(df3.head())"
   ]
  },
  {
   "cell_type": "code",
   "execution_count": 137,
   "metadata": {},
   "outputs": [],
   "source": [
    "#using model to predict onto tweets\n",
    "import math\n",
    "import nltk\n",
    "from nltk.tokenize import word_tokenize\n",
    "def pre(twes):\n",
    "    neg_loc = math.sqrt(sum(emotion_model.docvecs['False']*emotion_model.docvecs['False']))\n",
    "    pos_loc = math.sqrt(sum(emotion_model.docvecs['True']*emotion_model.docvecs['True']))\n",
    "    \n",
    "    pred= []\n",
    "    \n",
    "    for i in range(len(twes)):\n",
    "        tws = emotion_model.infer_vector(word_tokenize(twes[i]))\n",
    "        pred_loc = math.sqrt(sum(tws * tws))\n",
    "        is_neg = sum(tws * emotion_model.docvecs['False']) / pred_loc / neg_loc\n",
    "        is_pos = sum(tws * emotion_model.docvecs['True']) / pred_loc / pos_loc\n",
    "        if (is_neg > is_pos):\n",
    "            pred.append('False')\n",
    "        elif (is_pos > is_neg):\n",
    "            pred.append('True')\n",
    "    return pred"
   ]
  },
  {
   "cell_type": "code",
   "execution_count": 138,
   "metadata": {},
   "outputs": [],
   "source": [
    "predictions = pre(df3[\"text\"].tolist())\n",
    "correct = df3[\"Emotion?\"].tolist()"
   ]
  },
  {
   "cell_type": "code",
   "execution_count": 139,
   "metadata": {},
   "outputs": [
    {
     "name": "stdout",
     "output_type": "stream",
     "text": [
      "Total cases: 105\n",
      "Correct Predictions: 53\n",
      "Failed Predicitons: 52\n",
      "Total Accuracy: 0.5047619047619047\n"
     ]
    }
   ],
   "source": [
    "good = 0\n",
    "bad = 0\n",
    "for i in range(len(correct)):\n",
    "    if(predictions[i] == correct[i]):\n",
    "        good = good + 1\n",
    "    else:\n",
    "        bad = bad + 1\n",
    "\n",
    "print(\"Total cases: \"+str(len(correct)))\n",
    "print(\"Correct Predictions: \"+str(good))\n",
    "print(\"Failed Predicitons: \"+str(bad))\n",
    "print(\"Total Accuracy: \"+str(good/len(correct)))"
   ]
  },
  {
   "cell_type": "code",
   "execution_count": 145,
   "metadata": {},
   "outputs": [
    {
     "name": "stdout",
     "output_type": "stream",
     "text": [
      "Total cases: 105\n",
      "True Positives: 14\n",
      "False Positive: 4\n",
      "True Negatives: 39\n",
      "False Negatives: 48\n",
      "Accuracy: 0.5047619047619047\n",
      "Precision: 0.7777777777777778\n",
      "Recall: 0.22580645161290322\n",
      "F1 Score: 0.17500000000000002\n"
     ]
    }
   ],
   "source": [
    "tp = 0\n",
    "tn = 0\n",
    "fp = 0\n",
    "fn =0\n",
    "for i in range(len(correct)):\n",
    "    if(predictions[i] == \"True\"):\n",
    "        if(correct[i] == \"True\"):\n",
    "            tp = tp + 1\n",
    "        else:\n",
    "            fp = fp + 1\n",
    "    else:\n",
    "        if(correct[i] == \"False\"):\n",
    "            tn = tn + 1\n",
    "        else:\n",
    "            fn = fn + 1\n",
    "\n",
    "precision = tp/(tp+fp)\n",
    "recall = tp/(tp+fn)\n",
    "accuracy = (tp+tn)/(tp+tn+fp+fn)\n",
    "f1 = precision*recall/(precision+recall)\n",
    "print(\"Total cases: \"+str(len(correct)))\n",
    "print(\"True Positives: \"+str(tp))\n",
    "print(\"False Positive: \"+str(fp))\n",
    "print(\"True Negatives: \"+str(tn))\n",
    "print(\"False Negatives: \"+str(fn))\n",
    "print(\"Accuracy: \"+str(accuracy))\n",
    "print(\"Precision: \"+str(precision))\n",
    "print(\"Recall: \"+str(recall))\n",
    "print(\"F1 Score: \"+str(f1))\n",
    "#good new is there are very few false positives"
   ]
  }
 ],
 "metadata": {
  "kernelspec": {
   "display_name": "Python 3",
   "language": "python",
   "name": "python3"
  },
  "language_info": {
   "codemirror_mode": {
    "name": "ipython",
    "version": 3
   },
   "file_extension": ".py",
   "mimetype": "text/x-python",
   "name": "python",
   "nbconvert_exporter": "python",
   "pygments_lexer": "ipython3",
   "version": "3.5.2"
  }
 },
 "nbformat": 4,
 "nbformat_minor": 2
}
