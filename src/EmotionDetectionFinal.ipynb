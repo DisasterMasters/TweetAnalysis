{
 "cells": [
  {
   "cell_type": "code",
   "execution_count": 49,
   "metadata": {},
   "outputs": [
    {
     "name": "stdout",
     "output_type": "stream",
     "text": [
      "False    1212\n",
      "True      575\n",
      "Name: Emotion, dtype: int64\n"
     ]
    }
   ],
   "source": [
    "import pandas as pd\n",
    "\n",
    "# read in news articles\n",
    "df_news = pd.read_csv(\"abcnews-date-text.csv\")\n",
    "df_news = df_news.sample(500)#too large to use all of them\n",
    "df_news.rename(index=str, columns={\"publish_date\": \"Emotion\", \"headline_text\": \"text\"}, inplace=True)\n",
    "df_news[\"Emotion\"] = \"False\"\n",
    "\n",
    "#read in emotional friends quotes\n",
    "df_e = pd.read_json(\"friends_train.json\")\n",
    "df_e = df_e.append(pd.read_json(\"friends_test.json\"))\n",
    "df_e = df_e.append(pd.read_json(\"friends_dev.json\"))\n",
    "e_list = df_e[0].tolist()\n",
    "emot = []\n",
    "text = []\n",
    "for line in e_list:\n",
    "    emot.append(line[\"emotion\"])\n",
    "    text.append(line[\"utterance\"])\n",
    "df_emot = pd.DataFrame({\"Emotion\":emot, \"text\":text}, columns=[\"Emotion\",\"text\"])\n",
    "df_emot = df_emot.loc[df_emot[\"Emotion\"] != \"neutral\"]\n",
    "df_emot = df_emot.loc[df_emot[\"Emotion\"] != \"non-neutral\"]\n",
    "df_emot[\"Emotion\"] = \"True\"\n",
    "df_emot = df_emot.sample(300)\n",
    "\n",
    "#read in some of out tweets to test on\n",
    "df_xl = pd.read_excel(\"emotions.xlsx\")\n",
    "df_xl[\"Emotion\"].fillna(0,inplace=True)\n",
    "df_xl[\"Emotion\"] = df_xl[\"Emotion\"].map({1:\"True\", 0:\"False\"})\n",
    "d = {\"Emotion\":df_xl[\"Emotion\"], \"text\":df_xl[\"Tweet\"]}\n",
    "df_coded = pd.DataFrame(data=d)\n",
    "\n",
    "#create a shuffled dataframe of emotion and news tweets\n",
    "df_train = pd.concat([df_news,df_emot,df_coded])\n",
    "df_train = df_train.sample(frac=1).reset_index(drop=True)\n",
    "\n",
    "#uncomment this when applying to my training set\n",
    "#df_f = df_train.loc[df_train[\"Emotion\"]==\"False\"]\n",
    "#df_t = df_train.loc[df_train[\"Emotion\"]==\"True\"]\n",
    "#df_train = pd.concat([df_f.sample(27),df_t])\n",
    "print(df_train[\"Emotion\"].value_counts())"
   ]
  },
  {
   "cell_type": "code",
   "execution_count": 50,
   "metadata": {},
   "outputs": [
    {
     "name": "stderr",
     "output_type": "stream",
     "text": [
      "  0%|          | 0/90 [00:00<?, ?it/s]/usr/local/lib/python3.5/dist-packages/gensim/matutils.py:737: FutureWarning: Conversion of the second argument of issubdtype from `int` to `np.signedinteger` is deprecated. In future, it will be treated as `np.int64 == np.dtype(int).type`.\n",
      "  if np.issubdtype(vec.dtype, np.int):\n",
      "100%|██████████| 90/90 [00:00<00:00, 1197.85it/s]\n",
      "/home/nwest13/Curent/Syd/pd_doc2vec.py:106: SettingWithCopyWarning: \n",
      "A value is trying to be set on a copy of a slice from a DataFrame.\n",
      "Try using .loc[row_indexer,col_indexer] = value instead\n",
      "\n",
      "See the caveats in the documentation: http://pandas.pydata.org/pandas-docs/stable/indexing.html#indexing-view-versus-copy\n",
      "  test['results'] = self.predict(test[X])\n",
      "100%|██████████| 90/90 [00:00<00:00, 1189.41it/s]\n",
      "100%|██████████| 90/90 [00:00<00:00, 467.86it/s]\n",
      "100%|██████████| 90/90 [00:00<00:00, 471.07it/s]\n",
      "100%|██████████| 90/90 [00:00<00:00, 488.78it/s]\n",
      "100%|██████████| 90/90 [00:00<00:00, 476.66it/s]\n",
      "100%|██████████| 90/90 [00:00<00:00, 467.88it/s]\n",
      "100%|██████████| 90/90 [00:00<00:00, 463.34it/s]\n",
      "100%|██████████| 90/90 [00:00<00:00, 466.69it/s]\n",
      "100%|██████████| 90/90 [00:00<00:00, 480.62it/s]\n"
     ]
    },
    {
     "name": "stdout",
     "output_type": "stream",
     "text": [
      "Accuracy Score:  0.9133333333333334\n",
      "Label Score:  [0.9380091909596988, 0.8487676270657316]\n",
      "[[0.9380091909596988, 0.8487676270657316], 0.9666666666666667]\n"
     ]
    }
   ],
   "source": [
    "from pd_doc2vec import doc2vec\n",
    "#use pd doc2vec class on training tweets, get cross val accuaracy\n",
    "x = doc2vec(df_train, \"text\",[\"Emotion\"], build=True)\n",
    "print(x.score(verbose=True))"
   ]
  },
  {
   "cell_type": "code",
   "execution_count": 46,
   "metadata": {},
   "outputs": [
    {
     "name": "stdout",
     "output_type": "stream",
     "text": [
      "   _Order           Source   categories created_at                       _id  \\\n",
      "1       2  Statuses_Irma_A  ['utility']  9/15/2017  5c11a746ec4ee522100a5b3b   \n",
      "2       3  Statuses_Irma_A      ['gov']   9/8/2017  5c0c5cf2ec4ee5221008263d   \n",
      "3       4  Statuses_Irma_A          NaN  5/11/2017  5c598cc9ec4ee5929fd1e356   \n",
      "5       6  Statuses_Irma_C          NaN  6/20/2017  5c40997eec4ee5089818025a   \n",
      "6       7  Statuses_Irma_A          NaN  9/16/2017  5c598ccbec4ee5929fd33dd2   \n",
      "\n",
      "                                                text  emotion_ml  opinion_ml  \\\n",
      "1  I am happy to speak with someone at @dukeenerg...           0           1   \n",
      "2  Consider it done! Great work! #9PMRoutine http...           0           1   \n",
      "3    @WPLGLocal10 Waste of time and taxpayers mon ey           0           1   \n",
      "5  Word to the wise David, I would appreciate you...           0           1   \n",
      "6  @kylegravlin @WESH How can I watch it when the...           0           1   \n",
      "\n",
      "   Relevant  Opinion? Emotion? Which emotion?  Confusion  Sarcasm? Ps/Ng/Nt?  \n",
      "1       1.0       NaN     True              D        NaN       NaN        Nt  \n",
      "2       1.0       1.0     True             HJ        NaN       NaN        Ps  \n",
      "3       1.0       1.0     True              A        NaN       NaN        Ng  \n",
      "5       1.0       1.0    False            NaN        NaN       NaN        Ng  \n",
      "6       1.0       NaN     True              D        NaN       NaN        Ng  \n"
     ]
    }
   ],
   "source": [
    "#read in some of out tweets to test on\n",
    "df_test = pd.read_excel(\"emotion_test.xlsx\")\n",
    "df_test = df_test.loc[df_test[\"Relevant\"] == 1]\n",
    "df_test[\"Emotion?\"].fillna(0,inplace=True)\n",
    "df_test[\"Emotion?\"] = df_test[\"Emotion?\"].map({1:\"True\", 0:\"False\"})\n",
    "print(df_test.head())"
   ]
  },
  {
   "cell_type": "code",
   "execution_count": 47,
   "metadata": {},
   "outputs": [
    {
     "name": "stderr",
     "output_type": "stream",
     "text": [
      "  0%|          | 0/123 [00:00<?, ?it/s]/usr/local/lib/python3.5/dist-packages/gensim/matutils.py:737: FutureWarning: Conversion of the second argument of issubdtype from `int` to `np.signedinteger` is deprecated. In future, it will be treated as `np.int64 == np.dtype(int).type`.\n",
      "  if np.issubdtype(vec.dtype, np.int):\n",
      "100%|██████████| 123/123 [00:00<00:00, 539.37it/s]\n"
     ]
    }
   ],
   "source": [
    "#predict on hand coded tweets\n",
    "predictions = (x.predict(df_test[\"text\"])).tolist()\n",
    "correct = df_test[\"Emotion?\"].tolist()"
   ]
  },
  {
   "cell_type": "code",
   "execution_count": 48,
   "metadata": {},
   "outputs": [
    {
     "name": "stdout",
     "output_type": "stream",
     "text": [
      "Total cases: 123\n",
      "True Positives: 111\n",
      "False Positive: 12\n",
      "True Negatives: 0\n",
      "False Negatives: 0\n",
      "Accuracy: 0.9024390243902439\n",
      "Precision: 0.9024390243902439\n",
      "Recall: 1.0\n",
      "F1 Score: 0.4743589743589744\n",
      "True     111\n",
      "False     10\n",
      "Name: Emotion?, dtype: int64\n"
     ]
    }
   ],
   "source": [
    "text = df_test[\"text\"].tolist()\n",
    "\n",
    "#get some accuracy\n",
    "tp = 0\n",
    "tn = 0\n",
    "fp = 0\n",
    "fn =0\n",
    "for i in range(len(correct)):\n",
    "    if(predictions[i] == \"True\"):\n",
    "        if(correct[i] == \"True\"):\n",
    "            tp = tp + 1\n",
    "        else:\n",
    "            fp = fp + 1\n",
    "    else:\n",
    "        if(correct[i] == \"False\"):\n",
    "            tn = tn + 1\n",
    "        else:\n",
    "            fn = fn + 1\n",
    "            #print(text[i])\n",
    "\n",
    "precision = tp/(tp+fp)\n",
    "recall = tp/(tp+fn)\n",
    "accuracy = (tp+tn)/(tp+tn+fp+fn)\n",
    "f1 = precision*recall/(precision+recall)\n",
    "print(\"Total cases: \"+str(len(correct)))\n",
    "print(\"True Positives: \"+str(tp))\n",
    "print(\"False Positive: \"+str(fp))\n",
    "print(\"True Negatives: \"+str(tn))\n",
    "print(\"False Negatives: \"+str(fn))\n",
    "print(\"Accuracy: \"+str(accuracy))\n",
    "print(\"Precision: \"+str(precision))\n",
    "print(\"Recall: \"+str(recall))\n",
    "print(\"F1 Score: \"+str(f1))\n",
    "\n",
    "print(df_test[\"Emotion?\"].value_counts())"
   ]
  }
 ],
 "metadata": {
  "kernelspec": {
   "display_name": "Python 3",
   "language": "python",
   "name": "python3"
  },
  "language_info": {
   "codemirror_mode": {
    "name": "ipython",
    "version": 3
   },
   "file_extension": ".py",
   "mimetype": "text/x-python",
   "name": "python",
   "nbconvert_exporter": "python",
   "pygments_lexer": "ipython3",
   "version": "3.5.2"
  }
 },
 "nbformat": 4,
 "nbformat_minor": 2
}
