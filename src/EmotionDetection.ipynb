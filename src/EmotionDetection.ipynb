{
 "cells": [
  {
   "cell_type": "code",
   "execution_count": 40,
   "metadata": {},
   "outputs": [
    {
     "name": "stdout",
     "output_type": "stream",
     "text": [
      "      ID       Date                                              Tweet  \\\n",
      "0   3020 2017-09-10  @wsvn right below is the parking lot, across f...   \n",
      "1  67518 2017-09-10     @WPTV #HurricanIrma pic.twitter.com/cpStsW3MXx   \n",
      "2  20428 2017-09-10  . @DukeEnergy says 447 people without power in...   \n",
      "3  39812 2017-09-13  So if your regular pickup is on a Tuesday, do ...   \n",
      "4  60263 2017-09-09  4 more shelters opened in Sarasota Co. bringin...   \n",
      "\n",
      "  Opinion  Emotion Emotion class Sentiment Sarcasm  \n",
      "0     NaN      NaN           NaN       NaN     NaN  \n",
      "1     NaN      NaN           NaN       NaN     NaN  \n",
      "2     NaN      NaN           NaN       NaN     NaN  \n",
      "3     NaN      NaN           NaN       NaN     NaN  \n",
      "4     NaN      NaN           NaN       NaN     NaN  \n"
     ]
    }
   ],
   "source": [
    "#read in emotion file\n",
    "import pandas as pd\n",
    "from pd_doc2vec import doc2vec\n",
    "df1 = pd.read_excel(\"emotions.xlsx\")\n",
    "print(df1.head())"
   ]
  },
  {
   "cell_type": "code",
   "execution_count": 41,
   "metadata": {
    "scrolled": true
   },
   "outputs": [
    {
     "name": "stdout",
     "output_type": "stream",
     "text": [
      "      ID       Date                                              Tweet  \\\n",
      "0   3020 2017-09-10  @wsvn right below is the parking lot, across f...   \n",
      "1  67518 2017-09-10     @WPTV #HurricanIrma pic.twitter.com/cpStsW3MXx   \n",
      "2  20428 2017-09-10  . @DukeEnergy says 447 people without power in...   \n",
      "3  39812 2017-09-13  So if your regular pickup is on a Tuesday, do ...   \n",
      "4  60263 2017-09-09  4 more shelters opened in Sarasota Co. bringin...   \n",
      "\n",
      "  Opinion  Emotion Emotion class Sentiment Sarcasm  \n",
      "0     NaN      0.0           NaN       NaN     NaN  \n",
      "1     NaN      0.0           NaN       NaN     NaN  \n",
      "2     NaN      0.0           NaN       NaN     NaN  \n",
      "3     NaN      0.0           NaN       NaN     NaN  \n",
      "4     NaN      0.0           NaN       NaN     NaN  \n"
     ]
    }
   ],
   "source": [
    "#prep emotion column for analysis\n",
    "df1[\"Emotion\"].fillna(0,inplace=True)\n",
    "print(df1.head())"
   ]
  },
  {
   "cell_type": "code",
   "execution_count": 42,
   "metadata": {},
   "outputs": [
    {
     "name": "stderr",
     "output_type": "stream",
     "text": [
      "/usr/local/lib/python3.5/dist-packages/gensim/matutils.py:737: FutureWarning: Conversion of the second argument of issubdtype from `int` to `np.signedinteger` is deprecated. In future, it will be treated as `np.int64 == np.dtype(int).type`.\n",
      "  if np.issubdtype(vec.dtype, np.int):\n"
     ]
    },
    {
     "name": "stdout",
     "output_type": "stream",
     "text": [
      "Accuracy Score:  0.86\n",
      "Label Score:  [0.9014084507042254, 0.7586206896551724]\n",
      "[[0.9014084507042254, 0.7586206896551724], 0.86]\n"
     ]
    },
    {
     "name": "stderr",
     "output_type": "stream",
     "text": [
      "/home/nwest13/Curent/Syd/pd_doc2vec.py:106: SettingWithCopyWarning: \n",
      "A value is trying to be set on a copy of a slice from a DataFrame.\n",
      "Try using .loc[row_indexer,col_indexer] = value instead\n",
      "\n",
      "See the caveats in the documentation: http://pandas.pydata.org/pandas-docs/stable/indexing.html#indexing-view-versus-copy\n",
      "  test['results'] = self.predict(test[X])\n"
     ]
    }
   ],
   "source": [
    "#trying out Manny's doc2vec class for emotion detection, 10 times\n",
    "x = doc2vec(df1, \"Tweet\",[\"Emotion\"], build=True)\n",
    "print(x.score())"
   ]
  },
  {
   "cell_type": "code",
   "execution_count": null,
   "metadata": {},
   "outputs": [],
   "source": [
    "#TO DO\n",
    "#try this on other data sets\n",
    "#repeat for opinion\n"
   ]
  },
  {
   "cell_type": "code",
   "execution_count": 43,
   "metadata": {},
   "outputs": [
    {
     "name": "stdout",
     "output_type": "stream",
     "text": [
      "Empty DataFrame\n",
      "Columns: []\n",
      "Index: []\n"
     ]
    }
   ],
   "source": [
    "#dataframe of Emotion ==1 subset\n",
    "df2 = df.loc[df1[\"Emotion\"] == 1]\n",
    "print(df2)"
   ]
  },
  {
   "cell_type": "code",
   "execution_count": 27,
   "metadata": {
    "scrolled": true
   },
   "outputs": [
    {
     "name": "stderr",
     "output_type": "stream",
     "text": [
      "/usr/local/lib/python3.5/dist-packages/gensim/matutils.py:737: FutureWarning: Conversion of the second argument of issubdtype from `int` to `np.signedinteger` is deprecated. In future, it will be treated as `np.int64 == np.dtype(int).type`.\n",
      "  if np.issubdtype(vec.dtype, np.int):\n"
     ]
    },
    {
     "name": "stdout",
     "output_type": "stream",
     "text": [
      "Accuracy Score:  0.7\n",
      "Label Score:  [0.7692307692307692, 0.5714285714285715]\n",
      "[[0.7692307692307692, 0.5714285714285715], 0.7]\n"
     ]
    },
    {
     "name": "stderr",
     "output_type": "stream",
     "text": [
      "/home/nwest13/Curent/Syd/pd_doc2vec.py:106: SettingWithCopyWarning: \n",
      "A value is trying to be set on a copy of a slice from a DataFrame.\n",
      "Try using .loc[row_indexer,col_indexer] = value instead\n",
      "\n",
      "See the caveats in the documentation: http://pandas.pydata.org/pandas-docs/stable/indexing.html#indexing-view-versus-copy\n",
      "  test['results'] = self.predict(test[X])\n"
     ]
    }
   ],
   "source": [
    "#Predict Sentiment in hand labeled with emotion\n",
    "x2 = doc2vec(df2, \"Tweet\",[\"Sentiment\"], build=True)\n",
    "print(x.score())"
   ]
  },
  {
   "cell_type": "code",
   "execution_count": 31,
   "metadata": {},
   "outputs": [],
   "source": [
    "emotion_model = x.model\n",
    "sentiment_model = x2.model\n"
   ]
  },
  {
   "cell_type": "code",
   "execution_count": 32,
   "metadata": {},
   "outputs": [
    {
     "name": "stdout",
     "output_type": "stream",
     "text": [
      "Connected to Database\n"
     ]
    }
   ],
   "source": [
    "#connect to mongo db\n",
    "from pymongo import MongoClient\n",
    "from pd_doc2vec import doc2vec\n",
    "import pandas as pd\n",
    "\n",
    "\n",
    "client = MongoClient('da1.eecs.utk.edu',27017)\n",
    "print(\"Connected to Database\")"
   ]
  },
  {
   "cell_type": "code",
   "execution_count": 1,
   "metadata": {},
   "outputs": [
    {
     "ename": "NameError",
     "evalue": "name 'client' is not defined",
     "output_type": "error",
     "traceback": [
      "\u001b[0;31m---------------------------------------------------------------------------\u001b[0m",
      "\u001b[0;31mNameError\u001b[0m                                 Traceback (most recent call last)",
      "\u001b[0;32m<ipython-input-1-dfb6fab32db4>\u001b[0m in \u001b[0;36m<module>\u001b[0;34m()\u001b[0m\n\u001b[1;32m      4\u001b[0m \u001b[0;32mfrom\u001b[0m \u001b[0mtqdm\u001b[0m \u001b[0;32mimport\u001b[0m \u001b[0mtqdm\u001b[0m\u001b[0;34m\u001b[0m\u001b[0m\n\u001b[1;32m      5\u001b[0m \u001b[0;34m\u001b[0m\u001b[0m\n\u001b[0;32m----> 6\u001b[0;31m \u001b[0mcollection_list\u001b[0m \u001b[0;34m=\u001b[0m \u001b[0mclient\u001b[0m\u001b[0;34m[\u001b[0m\u001b[0;34m'twitter'\u001b[0m\u001b[0;34m]\u001b[0m\u001b[0;34m.\u001b[0m\u001b[0mlist_collection_names\u001b[0m\u001b[0;34m(\u001b[0m\u001b[0;34m)\u001b[0m\u001b[0;34m\u001b[0m\u001b[0m\n\u001b[0m\u001b[1;32m      7\u001b[0m \u001b[0;31m#Scrapes all the collection names from the Docker\u001b[0m\u001b[0;34m\u001b[0m\u001b[0;34m\u001b[0m\u001b[0m\n\u001b[1;32m      8\u001b[0m \u001b[0mi\u001b[0m \u001b[0;34m=\u001b[0m\u001b[0;36m0\u001b[0m\u001b[0;34m\u001b[0m\u001b[0m\n",
      "\u001b[0;31mNameError\u001b[0m: name 'client' is not defined"
     ]
    }
   ],
   "source": [
    "#NEVER RUN THIS AGAIN. DF IS WHERE ALL COLLECTION DATA IS STORED. LEAVE IT ALONE\n",
    "#i stole this from manny\n",
    "from pymongo import MongoClient\n",
    "from tqdm import tqdm\n",
    "\n",
    "collection_list = client['twitter'].list_collection_names() \n",
    "#Scrapes all the collection names from the Docker\n",
    "i =0\n",
    "sentimentdata = []\n",
    "for posts in (collection_list):\n",
    "    i = i+1\n",
    "    print(\"Processing\", posts, i, \"/\", str(len(collection_list)))\n",
    "    for post in client['twitter'][posts].find({'sentiment': {\"$exists\": True}}):  \n",
    "        #Extracts all the entries with a sentiment field\n",
    "        post.update({\"Source\": str(posts)}) \n",
    "        #Updates each data with the name of the collection it comes from\n",
    "        sentimentdata.append(post) \n",
    "\n",
    "users = []\n",
    "collection_list = client['twitter'].collection_names()\n",
    "collection_list = [x for x in collection_list if \"User\" in x]\n",
    "for posts in (collection_list):\n",
    "    for post in client['twitter'][posts].find():\n",
    "        users.append(post)\n",
    "\n",
    "#Scrapes all the collection names from the Docker\n",
    "i =0\n",
    "sentimentdata = []\n",
    "for posts in (collection_list):\n",
    "    i = i+1\n",
    "    print(\"Processing\", posts, i, \"/\", str(len(collection_list)))\n",
    "    for post in client['twitter'][posts].find({'sentiment': {\"$exists\": True}}):  \n",
    "        #Extracts all the entries with a sentiment field\n",
    "        post.update({\"Source\": str(posts)}) \n",
    "        #Updates each data with the name of the collection it comes from\n",
    "        sentimentdata.append(post) \n",
    "\n",
    "        \n",
    "        \n",
    "        \n",
    "df = pd.DataFrame(sentimentdata)\n",
    "# pulls data into the Pandas DataFrame\n",
    "\n",
    "print(df.head(3))"
   ]
  }
 ],
 "metadata": {
  "kernelspec": {
   "display_name": "Python 3",
   "language": "python",
   "name": "python3"
  },
  "language_info": {
   "codemirror_mode": {
    "name": "ipython",
    "version": 3
   },
   "file_extension": ".py",
   "mimetype": "text/x-python",
   "name": "python",
   "nbconvert_exporter": "python",
   "pygments_lexer": "ipython3",
   "version": "3.5.2"
  }
 },
 "nbformat": 4,
 "nbformat_minor": 2
}
